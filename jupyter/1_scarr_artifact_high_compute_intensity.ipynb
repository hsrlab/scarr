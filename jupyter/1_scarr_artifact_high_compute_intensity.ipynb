{
 "cells": [
  {
   "cell_type": "markdown",
   "metadata": {},
   "source": [
    "# High-Intensity Compute Workloads"
   ]
  },
  {
   "cell_type": "markdown",
   "metadata": {},
   "source": [
    "Warning: running this Jupyter notebook most likely will cause your computer to be unresponsive during the computation. Please save your important work before running this notebook."
   ]
  },
  {
   "cell_type": "code",
   "execution_count": null,
   "metadata": {},
   "outputs": [],
   "source": [
    "import zarr\n",
    "import matplotlib.pyplot as plt"
   ]
  },
  {
   "cell_type": "markdown",
   "metadata": {},
   "source": [
    "## Choose Data Set"
   ]
  },
  {
   "cell_type": "code",
   "execution_count": null,
   "metadata": {},
   "outputs": [],
   "source": [
    "dataset_name = \"benchmark_medium_sw_aes128_compressed.zarr\"\n",
    "#dataset_name = \"benchmark_medium_sw_aes128.zarr\""
   ]
  },
  {
   "cell_type": "code",
   "execution_count": null,
   "metadata": {},
   "outputs": [],
   "source": [
    "dataset = zarr.open(dataset_name, \"r\")"
   ]
  },
  {
   "cell_type": "markdown",
   "metadata": {},
   "source": [
    "## SNR with SCARR (all 16 byte positions)"
   ]
  },
  {
   "cell_type": "markdown",
   "metadata": {},
   "source": [
    "Computing the Signal-to-Noise Ratio (SNR) is a good start to explore this data set from a side-channel perspective. First, we need to configure everything."
   ]
  },
  {
   "cell_type": "code",
   "execution_count": null,
   "metadata": {},
   "outputs": [],
   "source": [
    "from scarr.engines.snr import SNR as snr\n",
    "from scarr.file_handling.trace_handler import TraceHandler as th\n",
    "from scarr.container.container import Container, ContainerOptions\n",
    "\n",
    "handler = th(fileName=dataset_name)\n",
    "engine = snr()\n",
    "\n",
    "container = Container(options=ContainerOptions(engine=engine, handler=handler), byte_positions = [x for x in range(16)])"
   ]
  },
  {
   "cell_type": "code",
   "execution_count": null,
   "metadata": {},
   "outputs": [],
   "source": [
    "# warning: this causes 100% CPU utilization\n",
    "engine.run(container)"
   ]
  },
  {
   "cell_type": "code",
   "execution_count": null,
   "metadata": {},
   "outputs": [],
   "source": [
    "results = engine.get_result()"
   ]
  },
  {
   "cell_type": "markdown",
   "metadata": {},
   "source": [
    "Looking at the results.shape is helpful to understand. Here: (tile, byte position, sample) = (1,16,70000)"
   ]
  },
  {
   "cell_type": "code",
   "execution_count": null,
   "metadata": {},
   "outputs": [],
   "source": [
    "results.shape"
   ]
  },
  {
   "cell_type": "markdown",
   "metadata": {},
   "source": [
    "Let us plot the result but only the interesting part (despite computing more). This will show distinctive peaks in the range of [0:5000] as can be cross-checked with other side-channel analysis frameworks."
   ]
  },
  {
   "cell_type": "code",
   "execution_count": null,
   "metadata": {},
   "outputs": [],
   "source": [
    "fig, ax = plt.subplots(figsize=(32, 4))\n",
    "ax.plot(results[0,0,0:5000], color='red')\n",
    "#ax.plot(results[0,1,0:5000], color='green')\n",
    "ax.plot(results[0,2,0:5000], color='blue')\n",
    "ax.plot(results[0,15,0:5000], color='orange')\n",
    "\n",
    "ax.set_xlabel('Samples')\n",
    "ax.set_ylabel('SNR')\n",
    "plt.show()"
   ]
  },
  {
   "cell_type": "markdown",
   "metadata": {},
   "source": [
    "## CPA with SCARR"
   ]
  },
  {
   "cell_type": "markdown",
   "metadata": {},
   "source": [
    "With the following code, we perform a Correlation Power Analysis with the HammingWeight (HW) power model."
   ]
  },
  {
   "cell_type": "code",
   "execution_count": null,
   "metadata": {},
   "outputs": [],
   "source": [
    "from scarr.engines.cpa import CPA as cpa\n",
    "from scarr.file_handling.trace_handler import TraceHandler as th\n",
    "from scarr.models.subBytes_weight import SubBytes_weight\n",
    "from scarr.container.container import Container, ContainerOptions"
   ]
  },
  {
   "cell_type": "code",
   "execution_count": null,
   "metadata": {},
   "outputs": [],
   "source": [
    "handler2 = th(fileName=dataset_name)\n",
    "model = SubBytes_weight()\n",
    "engine2 = cpa(model)\n",
    "container2 = Container(options=ContainerOptions(engine=engine2, handler=handler2), byte_positions = [x for x in range(16)])"
   ]
  },
  {
   "cell_type": "markdown",
   "metadata": {},
   "source": [
    "Executing the following cell will run the computation."
   ]
  },
  {
   "cell_type": "code",
   "execution_count": null,
   "metadata": {},
   "outputs": [],
   "source": [
    "container2.run()"
   ]
  },
  {
   "cell_type": "markdown",
   "metadata": {},
   "source": [
    "Fetching the results ..."
   ]
  },
  {
   "cell_type": "code",
   "execution_count": null,
   "metadata": {},
   "outputs": [],
   "source": [
    "results2 = container2.engine.get_result()"
   ]
  },
  {
   "cell_type": "markdown",
   "metadata": {},
   "source": [
    "Looking at the results.shape is helpful to understand. Here: (tile, byte position, convergence_step, key candidate, sample) = (1,16,1,256,70000)"
   ]
  },
  {
   "cell_type": "code",
   "execution_count": null,
   "metadata": {
    "collapsed": false
   },
   "outputs": [],
   "source": [
    "results2.shape"
   ]
  },
  {
   "cell_type": "code",
   "execution_count": null,
   "metadata": {},
   "outputs": [],
   "source": [
    "fig, ax = plt.subplots(figsize=(32, 4))\n",
    "ax.plot(results2[0,0,0,:,:].T, color='gray')\n",
    "ax.plot(results2[0,0,0,dataset[\"0/0/key\"][0,0],:].T, color='red')\n",
    "\n",
    "ax.set_xlabel('Samples')\n",
    "ax.set_ylabel('CPA')\n",
    "plt.show()"
   ]
  },
  {
   "cell_type": "markdown",
   "metadata": {},
   "source": [
    "## MIA with SCARR"
   ]
  },
  {
   "cell_type": "markdown",
   "metadata": {},
   "source": [
    "With the following code, we perform a Mutual Information Analysis with the HammingWeight (HW) power model and chosen number of bins."
   ]
  },
  {
   "cell_type": "code",
   "execution_count": null,
   "metadata": {},
   "outputs": [],
   "source": [
    "from scarr.engines.mia import MIA as mia\n",
    "from scarr.file_handling.trace_handler import TraceHandler as th\n",
    "from scarr.models.subBytes_weight import SubBytes_weight\n",
    "from scarr.container.container import Container, ContainerOptions"
   ]
  },
  {
   "cell_type": "code",
   "execution_count": null,
   "metadata": {},
   "outputs": [],
   "source": [
    "handler3 = th(fileName=dataset_name)#, batchStart=5000)\n",
    "model = SubBytes_weight()\n",
    "bin_num = 9\n",
    "engine3 = mia(model, bin_num)\n",
    "container3 = Container(options=ContainerOptions(engine=engine3, handler=handler3), slice=[0,5000], byte_positions = [x for x in range(16)])"
   ]
  },
  {
   "cell_type": "markdown",
   "metadata": {},
   "source": [
    "Executing the following cell will run the computation."
   ]
  },
  {
   "cell_type": "code",
   "execution_count": null,
   "metadata": {},
   "outputs": [],
   "source": [
    "container3.run()\n"
   ]
  },
  {
   "cell_type": "markdown",
   "metadata": {},
   "source": [
    "Let us check the returned key candidates"
   ]
  },
  {
   "cell_type": "code",
   "execution_count": null,
   "metadata": {},
   "outputs": [],
   "source": [
    "results3 = container3.engine.get_result()\n",
    "candidates = engine3.get_candidate()\n",
    "print(candidates)"
   ]
  },
  {
   "cell_type": "code",
   "execution_count": null,
   "metadata": {},
   "outputs": [],
   "source": [
    "dataset[\"0/0/key\"][0,:]"
   ]
  },
  {
   "cell_type": "markdown",
   "metadata": {},
   "source": []
  }
 ],
 "metadata": {
  "kernelspec": {
   "display_name": "Python 3",
   "language": "python",
   "name": "python3"
  },
  "language_info": {
   "codemirror_mode": {
    "name": "ipython",
    "version": 3
   },
   "file_extension": ".py",
   "mimetype": "text/x-python",
   "name": "python",
   "nbconvert_exporter": "python",
   "pygments_lexer": "ipython3",
   "version": "3.10.12"
  },
  "orig_nbformat": 4
 },
 "nbformat": 4,
 "nbformat_minor": 2
}
