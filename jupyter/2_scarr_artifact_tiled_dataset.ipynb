{
 "cells": [
  {
   "cell_type": "markdown",
   "metadata": {},
   "source": [
    "## SCARR for Tiled Data (EM Measurements)"
   ]
  },
  {
   "cell_type": "code",
   "execution_count": null,
   "metadata": {},
   "outputs": [],
   "source": [
    "import zarr\n",
    "import numpy as np\n",
    "import matplotlib.pyplot as plt"
   ]
  },
  {
   "cell_type": "code",
   "execution_count": null,
   "metadata": {},
   "outputs": [],
   "source": [
    "dataset_name = \"15x8x20000_r1_singlerail5_sr_ise_compressed.zarr\"\n",
    "\n",
    "dataset = zarr.open(dataset_name, \"r\")"
   ]
  },
  {
   "cell_type": "code",
   "execution_count": null,
   "metadata": {},
   "outputs": [],
   "source": [
    "dataset.tree()"
   ]
  },
  {
   "cell_type": "code",
   "execution_count": null,
   "metadata": {},
   "outputs": [],
   "source": [
    "import matplotlib.pyplot as plt\n",
    "print('Raw Plot')\n",
    "fig, ax = plt.subplots(figsize=(8, 4))\n",
    "ax.plot(dataset[\"0/0/traces\"][0,:], color='red')\n",
    "\n",
    "ax.set_xlabel('Samples')\n",
    "ax.set_ylabel('ADC Value')\n",
    "plt.show()"
   ]
  },
  {
   "cell_type": "markdown",
   "metadata": {},
   "source": [
    "Tile tuple generator"
   ]
  },
  {
   "cell_type": "code",
   "execution_count": null,
   "metadata": {},
   "outputs": [],
   "source": [
    "def create_list_of_tuples(list_x, list_y):\n",
    "    result = []  # Empty list to store the tuples\n",
    "    for i in range(len(list_x)):\n",
    "        # Create a tuple from corresponding elements\n",
    "        for j in range(len(list_y)):\n",
    "            tuple_element = (list_x[i], list_y[j])\n",
    "            result.append(tuple_element)  # Append the tuple to the list\n",
    "    return result"
   ]
  },
  {
   "cell_type": "code",
   "execution_count": null,
   "metadata": {},
   "outputs": [],
   "source": [
    "all_tiles = create_list_of_tuples(np.arange(0,15),np.arange(0,8))"
   ]
  },
  {
   "cell_type": "markdown",
   "metadata": {},
   "source": [
    "SNR Calculation"
   ]
  },
  {
   "cell_type": "code",
   "execution_count": null,
   "metadata": {},
   "outputs": [],
   "source": [
    "from scarr.engines.snr import SNR as snr\n",
    "from scarr.file_handling.trace_handler import TraceHandler as th\n",
    "from scarr.container.container import Container, ContainerOptions\n",
    "\n",
    "#handler = th(fileName='15x8x20000_r1_singlerail5_sr_ise.zarr', batchStart=10000)\n",
    "handler = th(fileName='15x8x20000_r1_singlerail5_sr_ise_compressed.zarr')\n",
    "engine = snr()\n",
    "container = Container(options=ContainerOptions(engine=engine, handler=handler), tile_positions=all_tiles)"
   ]
  },
  {
   "cell_type": "code",
   "execution_count": null,
   "metadata": {},
   "outputs": [],
   "source": [
    "# this step computes the SNR for 120 EM tiles (15x8) in approx. 45s on the i7-11800H\n",
    "engine.run(container)"
   ]
  },
  {
   "cell_type": "code",
   "execution_count": null,
   "metadata": {},
   "outputs": [],
   "source": [
    "results = engine.get_result()"
   ]
  },
  {
   "cell_type": "code",
   "execution_count": null,
   "metadata": {},
   "outputs": [],
   "source": [
    "results.shape"
   ]
  },
  {
   "cell_type": "markdown",
   "metadata": {},
   "source": [
    "Let's do a simple 2D plot just for the purpose of demonstration (not much will be visible)."
   ]
  },
  {
   "cell_type": "code",
   "execution_count": null,
   "metadata": {},
   "outputs": [],
   "source": [
    "import matplotlib.pyplot as plt\n",
    "fig, ax = plt.subplots(figsize=(8, 4))\n",
    "#plt.yscale('log')\n",
    "#ax.plot(results[0,0,:2000], color='red')\n",
    "ax.plot(results[0,0,:], color='red')\n",
    "ax.plot(results[1,0,:], color='green')\n",
    "\n",
    "ax.set_xlabel('Samples')\n",
    "ax.set_ylabel('SNR')\n",
    "plt.show()"
   ]
  },
  {
   "cell_type": "markdown",
   "metadata": {},
   "source": [
    "Much more useful will be the heatmap plot of the SNR to identify the best tiles. The left half of the EM map will be mostly dark, whereas the right half will show much brighter colors, representative for a much higher SNR."
   ]
  },
  {
   "cell_type": "code",
   "execution_count": null,
   "metadata": {},
   "outputs": [],
   "source": [
    "#def flat_to_shaped_tile_result(tile_results, dim_x, dim_y):\n",
    "dim_x = 15\n",
    "dim_y = 8\n",
    "data = np.zeros((dim_x,dim_y))\n",
    "data.shape\n",
    "\n",
    "#reshaped_results = results.reshape((dim_x,dim_y,1,19999))\n",
    "\n",
    "for x in range(dim_x):\n",
    "    for y in range(dim_y):\n",
    "        data[x,y] = np.max(np.abs(results[(dim_y*x)+y,:]))\n",
    "\n",
    "fig, ax = plt.subplots(figsize=(16, 8))\n",
    "\n",
    "# Place data on map\n",
    "im = ax.imshow(data.T, cmap='hot')\n",
    "\n",
    "# Create legend bar\n",
    "bar = ax.figure.colorbar(im, ax=ax)\n",
    "bar.ax.set_ylabel(\"SNR Value\", rotation=-90, va=\"bottom\")\n",
    "\n",
    "# Show tick marks and label them\n",
    "x_increments = np.arange(dim_x)\n",
    "ax.set_xticks(x_increments, labels=x_increments)\n",
    "y_increments = np.arange(dim_y)\n",
    "ax.set_yticks(y_increments, labels=y_increments)\n",
    "\n",
    "# # Label axes\n",
    "ax.set_xlabel(\"X-Axis\")\n",
    "ax.set_ylabel(\"Y-Axis\")"
   ]
  },
  {
   "cell_type": "code",
   "execution_count": null,
   "metadata": {},
   "outputs": [],
   "source": []
  }
 ],
 "metadata": {
  "kernelspec": {
   "display_name": "Python 3",
   "language": "python",
   "name": "python3"
  },
  "language_info": {
   "codemirror_mode": {
    "name": "ipython",
    "version": 3
   },
   "file_extension": ".py",
   "mimetype": "text/x-python",
   "name": "python",
   "nbconvert_exporter": "python",
   "pygments_lexer": "ipython3",
   "version": "3.10.12"
  },
  "orig_nbformat": 4
 },
 "nbformat": 4,
 "nbformat_minor": 2
}
