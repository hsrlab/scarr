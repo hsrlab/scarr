{
 "cells": [
  {
   "cell_type": "markdown",
   "metadata": {},
   "source": [
    "# Welcome to SCARR!"
   ]
  },
  {
   "cell_type": "markdown",
   "metadata": {},
   "source": [
    "This example notebook demonstrates how to use SCARR. It is not intended to explain the fundamentals of side-channel analysis.\n",
    "\n",
    "Let us import the libraries needed to work with this Jupyter notebook:"
   ]
  },
  {
   "cell_type": "code",
   "execution_count": null,
   "metadata": {},
   "outputs": [],
   "source": [
    "import zarr\n",
    "import matplotlib.pyplot as plt"
   ]
  },
  {
   "cell_type": "markdown",
   "metadata": {},
   "source": [
    "## Getting Started with the Zarr File Format"
   ]
  },
  {
   "cell_type": "markdown",
   "metadata": {},
   "source": [
    "Choose the data set to work with. Here, we use data set 'medium' with 100k traces, 70k samples per trace, and a data acquisition pattern of random plaintext with fixed key.\n",
    "\n",
    "Please note: this data set is made available through Box.com (see link in SCARR's README.md). However, due to limitations of Box.com when downloading directories using the web interface, this data set can only be downloaded as a tar archive (.zarr.tar), i.e., this does not use any additional compression and simply offers the .zarr directory for download as a single file. After downloading this data set, you need to untar this archive. Download of the compressed data set is highly recommended."
   ]
  },
  {
   "cell_type": "code",
   "execution_count": null,
   "metadata": {},
   "outputs": [],
   "source": [
    "#!tar -xvf benchmark_medium_sw_aes128_compressed.zarr.tar\n",
    "# uncomment the above line, should you want to untar from within the Jupyter notebook"
   ]
  },
  {
   "cell_type": "code",
   "execution_count": null,
   "metadata": {},
   "outputs": [],
   "source": [
    "dataset_name = \"benchmark_medium_sw_aes128_compressed.zarr\"\n",
    "#dataset_name = \"benchmark_medium_sw_aes128.zarr\""
   ]
  },
  {
   "cell_type": "markdown",
   "metadata": {},
   "source": [
    "Open the data set using Zarr:"
   ]
  },
  {
   "cell_type": "code",
   "execution_count": null,
   "metadata": {},
   "outputs": [],
   "source": [
    "dataset = zarr.open(dataset_name, \"r\")"
   ]
  },
  {
   "cell_type": "markdown",
   "metadata": {},
   "source": [
    "Illustrate the structure of the data set:"
   ]
  },
  {
   "cell_type": "code",
   "execution_count": null,
   "metadata": {},
   "outputs": [],
   "source": [
    "dataset.tree()"
   ]
  },
  {
   "cell_type": "markdown",
   "metadata": {},
   "source": [
    "Accessing values in our data set works like so:"
   ]
  },
  {
   "cell_type": "code",
   "execution_count": null,
   "metadata": {},
   "outputs": [],
   "source": [
    "dataset[\"0/0/key\"][0,:]"
   ]
  },
  {
   "cell_type": "markdown",
   "metadata": {},
   "source": [
    "The string \"0/0\" corresponds to X=0 and Y=0, and [\"0/0/key\"][0,:] will give you the first key used in the measurement campaign."
   ]
  },
  {
   "cell_type": "markdown",
   "metadata": {},
   "source": [
    "It is always helpful to confirm the compression setting."
   ]
  },
  {
   "cell_type": "code",
   "execution_count": null,
   "metadata": {},
   "outputs": [],
   "source": [
    "dataset[\"0/0/traces\"].compressor"
   ]
  },
  {
   "cell_type": "markdown",
   "metadata": {},
   "source": [
    "## Plotting a trace"
   ]
  },
  {
   "cell_type": "markdown",
   "metadata": {},
   "source": [
    "In the same way we accessed a key, we can also access trace data. Dataset medium will clearly show 10 rounds of the software AES. Let us plot the first trace in our data set."
   ]
  },
  {
   "cell_type": "code",
   "execution_count": null,
   "metadata": {},
   "outputs": [],
   "source": [
    "fig, ax = plt.subplots(figsize=(32, 4))\n",
    "ax.plot(dataset[\"0/0/traces\"][0,:], color='red')\n",
    "\n",
    "ax.set_xlabel('Samples')\n",
    "ax.set_ylabel('ADC Value')\n",
    "plt.show()"
   ]
  },
  {
   "cell_type": "markdown",
   "metadata": {},
   "source": [
    "## SNR with SCARR"
   ]
  },
  {
   "cell_type": "markdown",
   "metadata": {},
   "source": [
    "Computing the Signal-to-Noise Ratio (SNR) is a good start to explore this data set from a side-channel perspective. First, we need to configure everything."
   ]
  },
  {
   "cell_type": "code",
   "execution_count": null,
   "metadata": {},
   "outputs": [],
   "source": [
    "from scarr.engines.snr import SNR as snr\n",
    "from scarr.file_handling.trace_handler import TraceHandler as th\n",
    "from scarr.container.container import Container, ContainerOptions\n",
    "\n",
    "handler = th(fileName=dataset_name)\n",
    "engine = snr()\n",
    "\n",
    "container = Container(options=ContainerOptions(engine=engine, handler=handler))"
   ]
  },
  {
   "cell_type": "markdown",
   "metadata": {},
   "source": [
    "Executing the following cell will run the computation for the first byte position (word) of AES."
   ]
  },
  {
   "cell_type": "code",
   "execution_count": null,
   "metadata": {},
   "outputs": [],
   "source": [
    "# this should be quite fast on most modern computers (<1 min)\n",
    "engine.run(container)"
   ]
  },
  {
   "cell_type": "markdown",
   "metadata": {},
   "source": [
    "Fetching the results ..."
   ]
  },
  {
   "cell_type": "code",
   "execution_count": null,
   "metadata": {},
   "outputs": [],
   "source": [
    "results = engine.get_result()"
   ]
  },
  {
   "cell_type": "markdown",
   "metadata": {},
   "source": [
    "Looking at the results.shape is helpful to understand. Here: (tile, byte position, sample) = (1,1,70000)"
   ]
  },
  {
   "cell_type": "code",
   "execution_count": null,
   "metadata": {},
   "outputs": [],
   "source": [
    "results.shape"
   ]
  },
  {
   "cell_type": "markdown",
   "metadata": {},
   "source": [
    "Let us plot the result. This will show distinctive peaks in the range of [0:5000] as can be cross-checked with other side-channel analysis frameworks."
   ]
  },
  {
   "cell_type": "code",
   "execution_count": null,
   "metadata": {},
   "outputs": [],
   "source": [
    "fig, ax = plt.subplots(figsize=(32, 4))\n",
    "ax.plot(results[0,0,:], color='red')\n",
    "\n",
    "ax.set_xlabel('Samples')\n",
    "ax.set_ylabel('SNR')\n",
    "plt.show()"
   ]
  },
  {
   "cell_type": "markdown",
   "metadata": {},
   "source": [
    "## CPA with SCARR"
   ]
  },
  {
   "cell_type": "markdown",
   "metadata": {},
   "source": [
    "With the following code, we perform a Correlation Power Analysis with the HammingWeight (HW) power model."
   ]
  },
  {
   "cell_type": "code",
   "execution_count": null,
   "metadata": {},
   "outputs": [],
   "source": [
    "from scarr.engines.cpa import CPA as cpa\n",
    "from scarr.file_handling.trace_handler import TraceHandler as th\n",
    "from scarr.models.subBytes_weight import SubBytes_weight\n",
    "from scarr.container.container import Container, ContainerOptions"
   ]
  },
  {
   "cell_type": "code",
   "execution_count": null,
   "metadata": {},
   "outputs": [],
   "source": [
    "handler2 = th(fileName=dataset_name)\n",
    "model = SubBytes_weight()\n",
    "engine2 = cpa(model)\n",
    "container2 = Container(options=ContainerOptions(engine=engine2, handler=handler2))"
   ]
  },
  {
   "cell_type": "markdown",
   "metadata": {},
   "source": [
    "Executing the following cell will run the computation for the first byte position (word) of the AES."
   ]
  },
  {
   "cell_type": "code",
   "execution_count": null,
   "metadata": {},
   "outputs": [],
   "source": [
    "# this should be quite fast on most modern computers (<2 min)\n",
    "container2.run()"
   ]
  },
  {
   "cell_type": "markdown",
   "metadata": {},
   "source": [
    "Fetching the results ..."
   ]
  },
  {
   "cell_type": "code",
   "execution_count": null,
   "metadata": {},
   "outputs": [],
   "source": [
    "results2 = container2.engine.get_result()"
   ]
  },
  {
   "cell_type": "markdown",
   "metadata": {},
   "source": [
    "Looking at the results.shape is helpful to understand. Here: (tile, byte position, convergence_step, key candidate, sample) = (1,1,1,256,70000)"
   ]
  },
  {
   "cell_type": "code",
   "execution_count": null,
   "metadata": {
    "collapsed": false
   },
   "outputs": [],
   "source": [
    "results2.shape"
   ]
  },
  {
   "cell_type": "code",
   "execution_count": null,
   "metadata": {},
   "outputs": [],
   "source": [
    "fig, ax = plt.subplots(figsize=(32, 4))\n",
    "ax.plot(results2[0,0,0,:,:].T, color='gray')\n",
    "ax.plot(results2[0,0,0,dataset[\"0/0/key\"][0,0],:].T, color='red')\n",
    "\n",
    "ax.set_xlabel('Samples')\n",
    "ax.set_ylabel('CPA')\n",
    "plt.show()"
   ]
  },
  {
   "cell_type": "markdown",
   "metadata": {},
   "source": [
    "## MIA with SCARR"
   ]
  },
  {
   "cell_type": "markdown",
   "metadata": {},
   "source": [
    "With the following code, we perform a Mutual Information Analysis with the HammingWeight (HW) power model and chosen number of bins."
   ]
  },
  {
   "cell_type": "code",
   "execution_count": null,
   "metadata": {},
   "outputs": [],
   "source": [
    "from scarr.engines.mia import MIA as mia\n",
    "from scarr.file_handling.trace_handler import TraceHandler as th\n",
    "from scarr.models.subBytes_weight import SubBytes_weight\n",
    "from scarr.container.container import Container, ContainerOptions"
   ]
  },
  {
   "cell_type": "code",
   "execution_count": null,
   "metadata": {},
   "outputs": [],
   "source": [
    "handler3 = th(fileName=dataset_name)\n",
    "model = SubBytes_weight()\n",
    "bin_num = 9\n",
    "engine3 = mia(model, bin_num)\n",
    "container3 = Container(options=ContainerOptions(engine=engine3, handler=handler3), slice=[0,5000])"
   ]
  },
  {
   "cell_type": "markdown",
   "metadata": {},
   "source": [
    "Executing the following cell will run the computation."
   ]
  },
  {
   "cell_type": "code",
   "execution_count": null,
   "metadata": {},
   "outputs": [],
   "source": [
    "# this should be quite fast on most modern computers (<2 min)\n",
    "container3.run()\n"
   ]
  },
  {
   "cell_type": "markdown",
   "metadata": {},
   "source": [
    "Let us check the returned key candidate (43=0x2b)"
   ]
  },
  {
   "cell_type": "code",
   "execution_count": null,
   "metadata": {},
   "outputs": [],
   "source": [
    "results3 = container3.engine.get_result()\n",
    "candidates = engine3.get_candidate()\n",
    "print(candidates)"
   ]
  },
  {
   "cell_type": "code",
   "execution_count": null,
   "metadata": {},
   "outputs": [],
   "source": [
    "fig, ax = plt.subplots(figsize=(32, 4))\n",
    "ax.plot(results3[0,0,0,:,:].T, color='gray')\n",
    "ax.plot(results3[0,0,0,dataset[\"0/0/key\"][0,0],:], color='red')\n",
    "\n",
    "ax.set_xlabel('Samples')\n",
    "ax.set_ylabel('MIA')\n",
    "plt.show()"
   ]
  },
  {
   "cell_type": "markdown",
   "metadata": {},
   "source": [
    "# Congratulations!"
   ]
  },
  {
   "cell_type": "markdown",
   "metadata": {},
   "source": [
    "You successfully started using SCARR and are now off to great adventures in the domain of side-channel analysis!"
   ]
  },
  {
   "cell_type": "markdown",
   "metadata": {},
   "source": []
  },
  {
   "cell_type": "markdown",
   "metadata": {},
   "source": []
  }
 ],
 "metadata": {
  "kernelspec": {
   "display_name": "Python 3",
   "language": "python",
   "name": "python3"
  },
  "language_info": {
   "codemirror_mode": {
    "name": "ipython",
    "version": 3
   },
   "file_extension": ".py",
   "mimetype": "text/x-python",
   "name": "python",
   "nbconvert_exporter": "python",
   "pygments_lexer": "ipython3",
   "version": "3.10.12"
  },
  "orig_nbformat": 4
 },
 "nbformat": 4,
 "nbformat_minor": 2
}
